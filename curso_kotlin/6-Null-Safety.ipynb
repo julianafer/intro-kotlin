{
 "cells": [
  {
   "cell_type": "markdown",
   "source": [
    "![Logo do Kotlin](https://upload.wikimedia.org/wikipedia/commons/thumb/d/d4/Kotlin_logo.svg/2560px-Kotlin_logo.svg.png)\n",
    "# Null Safety\n",
    "Este documento foi desenvolvido pelos seguintes alunos de TSI do IFPB, sob subervisão do professor Gustavo Wagner (2024.1):\n",
    "1. Amanda Cruz de Araújo\n",
    "2. George Lima\n",
    "3. Luiz Manoel\n",
    "4. Manoel Pedro\n",
    "5. Olivia Oliva\n",
    "\n",
    "\n",
    "### 1. Tipos anuláveis e não anuláveis\n",
    "O sistema de tipos em Kotlin visa eliminar o perigo de referências `null`, conhecido como \"The Billion Dollar Mistake\". \n",
    "\n",
    " - Curiosidade: Como surgiu o termo \"The Billion Dollar Mistake\"?\n",
    "   - Tony Hoare inventou a referência `null` em 1965 como parte da linguagem ALGOL W e, em 2009, ele descreveu a sua invenção como um “erro de um bilhão de dólares”, afirmando que ela levou a inúmeros erros, vulnerabilidades e falhas de sistema, que, segundo ele, provavelmente causaram um bilhão de dólares de dor e danos nos últimos quarenta anos.\n",
    "\n",
    "Acessar uma referência `null` na maioria das linguagens resulta em uma exceção e, na maioria das vezes, a mesma é encontrada em tempo de execução. Porém, em Kotlin, uma `NullPointerException` só é causada em situações específicas, sendo encontrada em tempo de compilação, o que facilita a vida do desenvolvedor. \n",
    "\n",
    "Em Kotlin, o sistema de tipos distingue referências que podem conter valores `null`(referências anuláveis) das que não podem (referências não anuláveis).\n",
    "\n",
    "O tipo `String` é um exemplo de um tipo não anulável. Observe que ao executar o código a seguir surgirá um erro de compilação, pois tentamos atribuir um valor `null` a um tipo não anulável."
   ],
   "metadata": {
    "collapsed": false
   }
  },
  {
   "cell_type": "code",
   "outputs": [
    {
     "name": "stderr",
     "output_type": "stream",
     "text": [
      "Line_2.jupyter.kts (2:9 - 13) Null can not be a value of a non-null type String"
     ]
    }
   ],
   "source": [
    "var aluno: String = \"Amanda\"\n",
    "aluno = null"
   ],
   "metadata": {
    "collapsed": false,
    "ExecuteTime": {
     "end_time": "2024-03-11T02:48:25.747397700Z",
     "start_time": "2024-03-11T02:48:24.968793300Z"
    }
   },
   "execution_count": 2
  },
  {
   "cell_type": "markdown",
   "source": [],
   "metadata": {
    "collapsed": false
   }
  },
  {
   "cell_type": "markdown",
   "source": [
    "Ao utilizar tipos não anuláveis note que podemos chamar um método ou acessar uma propriedade da variável sem a preocupação de uma `NullPointerException`, observe no código a seguir:"
   ],
   "metadata": {
    "collapsed": false
   }
  },
  {
   "cell_type": "code",
   "outputs": [
    {
     "name": "stdout",
     "output_type": "stream",
     "text": [
      "7\r\n"
     ]
    }
   ],
   "source": [
    "var professor: String = \"Gustavo\"\n",
    "println(professor.length)"
   ],
   "metadata": {
    "collapsed": false,
    "ExecuteTime": {
     "end_time": "2024-03-11T02:48:25.792399100Z",
     "start_time": "2024-03-11T02:48:25.015663500Z"
    }
   },
   "execution_count": 3
  },
  {
   "cell_type": "markdown",
   "source": [
    "É possível permitir a atribuição de tipos nulos a tipos não anuláveis, para isso é preciso denotar explicitamente utlizando `String?` , como demostrado no código a seguir:"
   ],
   "metadata": {
    "collapsed": false
   }
  },
  {
   "cell_type": "markdown",
   "source": [],
   "metadata": {
    "collapsed": false
   }
  },
  {
   "cell_type": "code",
   "outputs": [
    {
     "name": "stdout",
     "output_type": "stream",
     "text": [
      "null"
     ]
    }
   ],
   "source": [
    "var teste: String? = \"Agora aceita null\"\n",
    "teste = null\n",
    "print(teste)"
   ],
   "metadata": {
    "collapsed": false,
    "ExecuteTime": {
     "end_time": "2024-03-11T02:48:25.820399800Z",
     "start_time": "2024-03-11T02:48:25.109832600Z"
    }
   },
   "execution_count": 4
  },
  {
   "cell_type": "markdown",
   "source": [
    "Nesse caso é preciso ter atenção para não ocorrerem erros de compilação, como ocorre no exemplo a seguir:"
   ],
   "metadata": {
    "collapsed": false
   }
  },
  {
   "cell_type": "code",
   "outputs": [
    {
     "name": "stderr",
     "output_type": "stream",
     "text": [
      "Line_5.jupyter.kts (3:12 - 13) Only safe (?.) or non-null asserted (!!.) calls are allowed on a nullable receiver of type String?"
     ]
    }
   ],
   "source": [
    "var opa: String? = \"Será que vai dar erro?\"\n",
    "opa = null\n",
    "println(opa.length)\n"
   ],
   "metadata": {
    "collapsed": false,
    "ExecuteTime": {
     "start_time": "2024-03-11T02:48:25.241309800Z"
    }
   },
   "execution_count": 5
  },
  {
   "cell_type": "markdown",
   "source": [
    "Porém não se preocupe, nesse caso também é possível acessar essa propriedade sem gerar erros de compilação, veremos como fazer isso a seguir!\n",
    " \n"
   ],
   "metadata": {
    "collapsed": false
   }
  },
  {
   "cell_type": "markdown",
   "source": [
    "### 2. Checagem de valores Nulos\n",
    "\n",
    "Como já visto, a linguagem Kotlin procura evitar erros relacionados à manipulação de valores nulos ainda em tempo de densenvolvimento, induzindo a pessoa desenvolvedora a adicionar operações de verificação antes de tentar acessar valores possivelmente nulos. Abaixo serão apresentadas formas de se fazer esta verificação utilizando tanto recursos comuns a outras linguagens de programação quanto recursos característicos da linguagem Kotlin.\n",
    "Os dois exemplos abaixo utilizam uma estrutura padrão de checagem de condição (if statement) para verificar quais valores são ou não nulos antes de acessá-los."
   ],
   "metadata": {
    "collapsed": false
   }
  },
  {
   "cell_type": "code",
   "outputs": [
    {
     "name": "stdout",
     "output_type": "stream",
     "text": [
      "Tamanho da palavra informada: 7 caracteres\r\n"
     ]
    }
   ],
   "source": [
    "val exemploDePalavra: String? = \"Exemplo\"\n",
    "val tamanhoDaPalavra = if (exemploDePalavra != null) exemploDePalavra.length else 0\n",
    "//Atribui o valor dinâmico caso a expressão lógica retorne true, e um valor estático 0 caso o retorno seja false.\n",
    " \n",
    "println(\"Tamanho da palavra informada: $tamanhoDaPalavra caracteres\")\n"
   ],
   "metadata": {
    "collapsed": false,
    "ExecuteTime": {
     "end_time": "2024-03-11T02:48:26.000942200Z",
     "start_time": "2024-03-11T02:48:25.309330800Z"
    }
   },
   "execution_count": 6
  },
  {
   "cell_type": "markdown",
   "source": [
    "Experimente alterar o valor da variável `exemploDePalavra` na linha 1 para `null` e execute novamente.\n",
    "Por enquanto não precisa se preocupar com o operador `?`. Ele será explicado na seção seguinte."
   ],
   "metadata": {
    "collapsed": false
   }
  },
  {
   "cell_type": "markdown",
   "source": [
    "O exemeplo a seguir itera sobre uma lista de dados e imprime na tela somente os dados não nulos."
   ],
   "metadata": {
    "collapsed": false
   }
  },
  {
   "cell_type": "code",
   "execution_count": 7,
   "outputs": [
    {
     "name": "stdout",
     "output_type": "stream",
     "text": [
      "João José\r\n",
      "false\r\n",
      "0.0\r\n"
     ]
    }
   ],
   "source": [
    "var nome = \"João José\"\n",
    "var idade = null\n",
    "var estaEmpregado = false\n",
    "var renda = 0.0\n",
    "\n",
    "var dadosUsuario = mutableListOf(nome, idade, estaEmpregado, renda)\n",
    "\n",
    "for(dado in dadosUsuario) {\n",
    "    if(dado != null) {\n",
    "        println(dado) //Somente os dados não nulos serão exibidos.\n",
    "    }\n",
    "}"
   ],
   "metadata": {
    "collapsed": false
   }
  },
  {
   "cell_type": "markdown",
   "source": [
    "Para fins didáticos, os tipos das variáveis acima não foram definidos explicitamente. Sendo assim, foram inferidos a partir dos valores de inicialização, logo nenhum deles pode assumir `null` ao longo da execução do código, exceto se forem inicialmente assim declarados.\n",
    "Uma vez familiarizado com o operador `?`, é possível declarar variáveis que permitam receber tanto tipos não nulos quanto o valor `null`, podendo ser alteradas ao longo da execução do código, permitindo assim maior flexibilidade no desenvolvimento."
   ],
   "metadata": {
    "collapsed": false
   }
  },
  {
   "cell_type": "markdown",
   "source": [
    "### 3. Safe calls\n",
    "\n",
    "Uma alternativa fornecida pelo Kotlin para acessar uma variável ou propriedade que pode ser nula é utilizando o operador de safe call `?.`. Em vez de acessar diretamente uma propriedade de um objeto ou valor de uma variável, o qual pode ser nulo e, portanto, correr o risco de lançar uma exceção, o operador `?.` permite realizar uma verificação prévia para checar se o valor é nulo.\n"
   ],
   "metadata": {
    "collapsed": false
   }
  },
  {
   "cell_type": "code",
   "outputs": [
    {
     "name": "stdout",
     "output_type": "stream",
     "text": [
      "null\r\n"
     ]
    }
   ],
   "source": [
    "var variavel: String? = null\n",
    "\n",
    "//println(variavel.length) // sem Safe Call\n",
    "println(variavel?.length) // com Safe Call"
   ],
   "metadata": {
    "collapsed": false
   },
   "execution_count": 8
  },
  {
   "cell_type": "markdown",
   "source": [
    "A safe call também permite o acesso seguro a propriedades de objetos que podem ser nulas, evitando o risco de lançar uma exceção de `NullPointerException`. Além disso, a safe call pode ser utilizada em uma cadeia de chamadas, permitindo acessar várias propriedades aninhadas sem o risco de exceções."
   ],
   "metadata": {
    "collapsed": false
   }
  },
  {
   "cell_type": "code",
   "execution_count": 9,
   "outputs": [
    {
     "name": "stdout",
     "output_type": "stream",
     "text": [
      "New York\r\n"
     ]
    }
   ],
   "source": [
    "class Pessoa(val endereco: Endereco?)\n",
    "class Endereco(val rua: String?, val cidade: Cidade?)\n",
    "class Cidade(var nome: String?)\n",
    "\n",
    "fun comSafeCall() {\n",
    "    var cidade: Cidade? = Cidade(\"New York\") //null\n",
    "    val endereco: Endereco? = Endereco(\"Broadway\", cidade)\n",
    "    val pessoa: Pessoa? = Pessoa(endereco)\n",
    "\n",
    "    // Se pessoa.endereço != Null -> se cidade != Null -> acessa o nome.\n",
    "    println(pessoa?.endereco?.cidade?.nome)\n",
    "}\n",
    "\n",
    "comSafeCall()"
   ],
   "metadata": {
    "collapsed": false
   }
  },
  {
   "cell_type": "markdown",
   "source": [
    "A Safe Call tambem pode ser usada à esquerda de uma atribuição e se ao menos um dos valores da cadeia for nulo, a expressão direita é completamente ignorada."
   ],
   "metadata": {
    "collapsed": false
   }
  },
  {
   "cell_type": "code",
   "execution_count": 10,
   "outputs": [
    {
     "name": "stdout",
     "output_type": "stream",
     "text": [
      "null\r\n"
     ]
    }
   ],
   "source": [
    "class Pessoa(val endereco: Endereco?)\n",
    "class Endereco(var rua: String?)\n",
    "\n",
    "fun main() {\n",
    "    val endereco: Endereco? = null //Endereco(\"Rua 1\")\n",
    "    val pessoa: Pessoa? = Pessoa(endereco)\n",
    "    \n",
    "    // Endereço é null\n",
    "    pessoa?.endereco?.rua = \"Rua XYZ\"\n",
    "    println(endereco?.rua) // A saída será null, pois a atribuição é ignorada\n",
    "}\n",
    "\n",
    "main()"
   ],
   "metadata": {
    "collapsed": false
   }
  },
  {
   "cell_type": "markdown",
   "source": [
    "### 4. Nullable receiver\n",
    "Em Kotlin, podemos criar funções extras para classes já existentes sem mudar essas classes (alterando o código-fonte delas ou herdando), chamadas de \"funções de extensão\". O diferencial positivo é que essas funções podem ser chamadas até mesmo quando envolverem variáveis que possivelmente não têm valor (são `null`). Isso ajuda a tornar o nosso código mais seguro e limpo, porque podemos usar essas funções sem nos preocuparmos se a variável é `null`, evitando o erro de `NullPointerException`.\n",
    "\n",
    "#### Principais pontos positivos do uso:\n",
    "\n",
    "Os Nullable Receivers são importantes porque:\n",
    "\n",
    "- Promovem a segurança contra `null`: Ao permitir que funções de extensão sejam chamadas em referências que podem ser `null`, Kotlin elimina a necessidade de verificações explícitas de null, tornando o código mais limpo e legível.\n",
    "\n",
    "- Facilitam a manipulação de tipos nullable: Em Kotlin, lidar com tipos nullable é uma ocorrência comum. Os Nullable Receivers permitem que operações sejam executadas em valores null de maneira segura, sem causar `NullPointerException`.\n",
    "\n",
    "- Aumentam a expressividade do código: Com os Nullable Receivers, é possível escrever funções que operam de maneira diferente dependendo do seu receptor ser `null` ou não, oferecendo uma maneira flexível de tratar casos nulos.\n",
    "\n",
    "#### Lógica por trás dos Nullable Receivers\n",
    "\n",
    "A lógica dos Nullable Receivers em Kotlin é baseada no princípio de que é possível chamar funções em objetos `null` sem causar erros em tempo de execução. Se o receptor (o objeto no qual a função de extensão é chamada) for `null`, a função simplesmente não será executada, evitando assim o `NullPointerException`.\n",
    "\n",
    "No exemplo a seguir, `printWithPrefix` é uma função de extensão que aceita um `String?` como receptor. Isso significa que ela pode ser chamada em uma `String` que pode ser `null`. Dentro da função, usamos `if (this != null)` para verificar se o receptor é `null` e agir de acordo. Esse é um padrão comum ao trabalhar com Nullable Receivers em Kotlin.\n"
   ],
   "metadata": {
    "collapsed": false
   }
  },
  {
   "cell_type": "code",
   "outputs": [
    {
     "name": "stdout",
     "output_type": "stream",
     "text": [
      "O valor é null\r\n",
      "O valor Kotlin\r\n"
     ]
    }
   ],
   "source": [
    "//manoel\n",
    "// Definindo uma função de extensão para String? que pode ser chamada em referências nulas\n",
    "fun String?.printWithPrefix(prefix: String) {\n",
    "    if (this != null) {\n",
    "        println(\"$prefix $this\")\n",
    "    } else {\n",
    "        println(\"$prefix é null\")\n",
    "    }\n",
    "}\n",
    "\n",
    "// Uso da função de extensão em um objeto que pode ser null\n",
    "\n",
    "    val strNull: String? = null\n",
    "    val strNotNull: String? = \"Kotlin\"\n",
    "    \n",
    "    \n",
    "    // Chamando a função de extensão em ambos, um objeto nulo e um não nulo\n",
    "    strNull.printWithPrefix(\"O valor\")\n",
    "    strNotNull.printWithPrefix(\"O valor\")\n",
    "    \n",
    "    \n",
    "    \n",
    "\n",
    "\n"
   ],
   "metadata": {
    "collapsed": false
   },
   "execution_count": 11
  },
  {
   "cell_type": "markdown",
   "source": [
    "### 5. Elvis operator\n",
    "####  Por que `Elvis`?\n",
    " Bom, O nome \"operador de Elvis\" refere-se ao fato de que quando o operador, ?:, é vista de lado, assemelha-se a um emoji de Elvis Presley com o seu penteado belíssimo.\n",
    "\n",
    "\n",
    "#### Criando contexto:\n",
    " Quando você tem uma referência anulável, x, você pode dizer \"se x não for nulo, use-o, caso contrário, use algum valor não nulo\":"
   ],
   "metadata": {
    "collapsed": false
   }
  },
  {
   "cell_type": "code",
   "outputs": [
    {
     "name": "stdout",
     "output_type": "stream",
     "text": [
      "3"
     ]
    }
   ],
   "source": [
    "val x: String = \"Olá\"\n",
    "val example: Int = if (x != null) x.length else -1\n",
    "print(example)"
   ],
   "metadata": {
    "collapsed": false
   },
   "execution_count": 12
  },
  {
   "cell_type": "markdown",
   "source": [
    "Note que, ao invés de escrever a expressão if completa, você pode expressar isso com o operador `Elvis ?:`"
   ],
   "metadata": {
    "collapsed": false
   }
  },
  {
   "cell_type": "code",
   "execution_count": 13,
   "outputs": [
    {
     "name": "stdout",
     "output_type": "stream",
     "text": [
      "10"
     ]
    }
   ],
   "source": [
    "val x: String = \"Olá Mundo!\"\n",
    "val elvis = x?.length ?: -1\n",
    "print(elvis)"
   ],
   "metadata": {
    "collapsed": false
   }
  },
  {
   "cell_type": "markdown",
   "source": [
    "#### Tá, mas o que aconteceu?\n",
    "\n",
    "Se a expressão à esquerda de ?: não for nula, o operador Elvis devolve-a, caso contrário devolve a expressão à direita. Observe que a expressão do lado direito só será avaliada se o lado esquerdo for nulo."
   ],
   "metadata": {
    "collapsed": false
   }
  },
  {
   "cell_type": "markdown",
   "source": [
    "Ah, e vale lembrar também que:\n",
    "Como `throw` e `return` são expressões em Kotlin, eles também podem ser usados no lado direito do operador Elvis. Isto pode ser útil, por exemplo, ao verificar argumentos de funções:"
   ],
   "metadata": {
    "collapsed": false
   }
  },
  {
   "cell_type": "code",
   "execution_count": 14,
   "outputs": [
    {
     "name": "stdout",
     "output_type": "stream",
     "text": [
      "Return:\r\n",
      "User(name=Rodrigo)\r\n",
      "User(name=Unknown)\r\n",
      "Throw:\r\n",
      "User(name=Gustavo)\r\n"
     ]
    },
    {
     "name": "stderr",
     "output_type": "stream",
     "text": [
      "User not found.\r\n",
      "java.lang.IllegalArgumentException: User not found.\r\n",
      "\tat Line_18_jupyter.findUserException(Line_18.jupyter.kts:9)\r\n",
      "\tat Line_18_jupyter.<init>(Line_18.jupyter.kts:20)\r\n",
      "\tat java.base/jdk.internal.reflect.NativeConstructorAccessorImpl.newInstance0(Native Method)\r\n",
      "\tat java.base/jdk.internal.reflect.NativeConstructorAccessorImpl.newInstance(NativeConstructorAccessorImpl.java:77)\r\n",
      "\tat java.base/jdk.internal.reflect.DelegatingConstructorAccessorImpl.newInstance(DelegatingConstructorAccessorImpl.java:45)\r\n",
      "\tat java.base/java.lang.reflect.Constructor.newInstanceWithCaller(Constructor.java:499)\r\n",
      "\tat java.base/java.lang.reflect.Constructor.newInstance(Constructor.java:480)\r\n",
      "\tat kotlin.script.experimental.jvm.BasicJvmScriptEvaluator.evalWithConfigAndOtherScriptsResults(BasicJvmScriptEvaluator.kt:105)\r\n",
      "\tat kotlin.script.experimental.jvm.BasicJvmScriptEvaluator.invoke$suspendImpl(BasicJvmScriptEvaluator.kt:47)\r\n",
      "\tat kotlin.script.experimental.jvm.BasicJvmScriptEvaluator.invoke(BasicJvmScriptEvaluator.kt)\r\n",
      "\tat kotlin.script.experimental.jvm.BasicJvmReplEvaluator.eval(BasicJvmReplEvaluator.kt:49)\r\n",
      "\tat org.jetbrains.kotlinx.jupyter.repl.impl.InternalEvaluatorImpl$eval$resultWithDiagnostics$1.invokeSuspend(InternalEvaluatorImpl.kt:103)\r\n",
      "\tat kotlin.coroutines.jvm.internal.BaseContinuationImpl.resumeWith(ContinuationImpl.kt:33)\r\n",
      "\tat kotlinx.coroutines.DispatchedTask.run(DispatchedTask.kt:106)\r\n",
      "\tat kotlinx.coroutines.EventLoopImplBase.processNextEvent(EventLoop.common.kt:284)\r\n",
      "\tat kotlinx.coroutines.BlockingCoroutine.joinBlocking(Builders.kt:85)\r\n",
      "\tat kotlinx.coroutines.BuildersKt__BuildersKt.runBlocking(Builders.kt:59)\r\n",
      "\tat kotlinx.coroutines.BuildersKt.runBlocking(Unknown Source)\r\n",
      "\tat kotlinx.coroutines.BuildersKt__BuildersKt.runBlocking$default(Builders.kt:38)\r\n",
      "\tat kotlinx.coroutines.BuildersKt.runBlocking$default(Unknown Source)\r\n",
      "\tat org.jetbrains.kotlinx.jupyter.repl.impl.InternalEvaluatorImpl.eval(InternalEvaluatorImpl.kt:103)\r\n",
      "\tat org.jetbrains.kotlinx.jupyter.repl.impl.CellExecutorImpl$execute$1$result$1.invoke(CellExecutorImpl.kt:75)\r\n",
      "\tat org.jetbrains.kotlinx.jupyter.repl.impl.CellExecutorImpl$execute$1$result$1.invoke(CellExecutorImpl.kt:73)\r\n",
      "\tat org.jetbrains.kotlinx.jupyter.ReplForJupyterImpl.withHost(repl.kt:666)\r\n",
      "\tat org.jetbrains.kotlinx.jupyter.repl.impl.CellExecutorImpl.execute(CellExecutorImpl.kt:73)\r\n",
      "\tat org.jetbrains.kotlinx.jupyter.repl.CellExecutor$DefaultImpls.execute$default(CellExecutor.kt:15)\r\n",
      "\tat org.jetbrains.kotlinx.jupyter.ReplForJupyterImpl$evalEx$1.invoke(repl.kt:479)\r\n",
      "\tat org.jetbrains.kotlinx.jupyter.ReplForJupyterImpl$evalEx$1.invoke(repl.kt:470)\r\n",
      "\tat org.jetbrains.kotlinx.jupyter.ReplForJupyterImpl.withEvalContext(repl.kt:433)\r\n",
      "\tat org.jetbrains.kotlinx.jupyter.ReplForJupyterImpl.evalEx(repl.kt:470)\r\n",
      "\tat org.jetbrains.kotlinx.jupyter.messaging.ProtocolKt$shellMessagesHandler$2$res$1.invoke(protocol.kt:318)\r\n",
      "\tat org.jetbrains.kotlinx.jupyter.messaging.ProtocolKt$shellMessagesHandler$2$res$1.invoke(protocol.kt:312)\r\n",
      "\tat org.jetbrains.kotlinx.jupyter.JupyterExecutorImpl$runExecution$execThread$1.invoke(execution.kt:37)\r\n",
      "\tat org.jetbrains.kotlinx.jupyter.JupyterExecutorImpl$runExecution$execThread$1.invoke(execution.kt:32)\r\n",
      "\tat kotlin.concurrent.ThreadsKt$thread$thread$1.run(Thread.kt:30)\r\n"
     ]
    }
   ],
   "source": [
    "data class User(val name: String)\n",
    "\n",
    "fun findUserByName(users: List<User>, name: String?): User {\n",
    "    val user = users.find { it.name == name } ?: return User(\"Unknown\")\n",
    "    return user\n",
    "}\n",
    "\n",
    "fun findUserException(users: List<User>, name: String?): User {\n",
    "    val user = users.find {it.name == name} ?: throw IllegalArgumentException(\"User not found.\")\n",
    "    return user\n",
    "}\n",
    "\n",
    "    val users = listOf(User(\"Gustavo\"), User(\"Rodrigo\"), User(\"Olivia\"))\n",
    "\n",
    "    println(\"Return:\")\n",
    "    println(findUserByName(users, \"Rodrigo\"))  // Deve imprimir o usuário\n",
    "    println(findUserByName(users, \"Caio\")) // Deve imprimir (name=Unknown)\n",
    "    println(\"Throw:\")\n",
    "    println(findUserException(users, \"Gustavo\")) // Deve imprimir o usuário\n",
    "    println(findUserException(users, \"Wagner\")) // Deve trazer uma exceção"
   ],
   "metadata": {
    "collapsed": false
   }
  },
  {
   "cell_type": "markdown",
   "source": [
    "### 6. The !! operator\n",
    "O operador de afirmação não nulo `(!!)` converte qualquer valor em um tipo não anulável e lança uma exceção se o valor for nulo.\n",
    "\n",
    "#### Então, quando devo usá-lo?\n",
    " Se você tem certeza de que um valor não é nulo em um determinado ponto do código, use o operador (!!) para desafiar o Kotlin e afirmar que está tudo sob controle.\n",
    "\n",
    "Aqui ele irá lançar uma exceção:"
   ],
   "metadata": {
    "collapsed": false
   }
  },
  {
   "cell_type": "code",
   "outputs": [
    {
     "name": "stderr",
     "output_type": "stream",
     "text": [
      "null\r\n",
      "java.lang.NullPointerException\r\n",
      "\tat Line_19_jupyter.<init>(Line_19.jupyter.kts:2)\r\n",
      "\tat java.base/jdk.internal.reflect.NativeConstructorAccessorImpl.newInstance0(Native Method)\r\n",
      "\tat java.base/jdk.internal.reflect.NativeConstructorAccessorImpl.newInstance(NativeConstructorAccessorImpl.java:77)\r\n",
      "\tat java.base/jdk.internal.reflect.DelegatingConstructorAccessorImpl.newInstance(DelegatingConstructorAccessorImpl.java:45)\r\n",
      "\tat java.base/java.lang.reflect.Constructor.newInstanceWithCaller(Constructor.java:499)\r\n",
      "\tat java.base/java.lang.reflect.Constructor.newInstance(Constructor.java:480)\r\n",
      "\tat kotlin.script.experimental.jvm.BasicJvmScriptEvaluator.evalWithConfigAndOtherScriptsResults(BasicJvmScriptEvaluator.kt:105)\r\n",
      "\tat kotlin.script.experimental.jvm.BasicJvmScriptEvaluator.invoke$suspendImpl(BasicJvmScriptEvaluator.kt:47)\r\n",
      "\tat kotlin.script.experimental.jvm.BasicJvmScriptEvaluator.invoke(BasicJvmScriptEvaluator.kt)\r\n",
      "\tat kotlin.script.experimental.jvm.BasicJvmReplEvaluator.eval(BasicJvmReplEvaluator.kt:49)\r\n",
      "\tat org.jetbrains.kotlinx.jupyter.repl.impl.InternalEvaluatorImpl$eval$resultWithDiagnostics$1.invokeSuspend(InternalEvaluatorImpl.kt:103)\r\n",
      "\tat kotlin.coroutines.jvm.internal.BaseContinuationImpl.resumeWith(ContinuationImpl.kt:33)\r\n",
      "\tat kotlinx.coroutines.DispatchedTask.run(DispatchedTask.kt:106)\r\n",
      "\tat kotlinx.coroutines.EventLoopImplBase.processNextEvent(EventLoop.common.kt:284)\r\n",
      "\tat kotlinx.coroutines.BlockingCoroutine.joinBlocking(Builders.kt:85)\r\n",
      "\tat kotlinx.coroutines.BuildersKt__BuildersKt.runBlocking(Builders.kt:59)\r\n",
      "\tat kotlinx.coroutines.BuildersKt.runBlocking(Unknown Source)\r\n",
      "\tat kotlinx.coroutines.BuildersKt__BuildersKt.runBlocking$default(Builders.kt:38)\r\n",
      "\tat kotlinx.coroutines.BuildersKt.runBlocking$default(Unknown Source)\r\n",
      "\tat org.jetbrains.kotlinx.jupyter.repl.impl.InternalEvaluatorImpl.eval(InternalEvaluatorImpl.kt:103)\r\n",
      "\tat org.jetbrains.kotlinx.jupyter.repl.impl.CellExecutorImpl$execute$1$result$1.invoke(CellExecutorImpl.kt:75)\r\n",
      "\tat org.jetbrains.kotlinx.jupyter.repl.impl.CellExecutorImpl$execute$1$result$1.invoke(CellExecutorImpl.kt:73)\r\n",
      "\tat org.jetbrains.kotlinx.jupyter.ReplForJupyterImpl.withHost(repl.kt:666)\r\n",
      "\tat org.jetbrains.kotlinx.jupyter.repl.impl.CellExecutorImpl.execute(CellExecutorImpl.kt:73)\r\n",
      "\tat org.jetbrains.kotlinx.jupyter.repl.CellExecutor$DefaultImpls.execute$default(CellExecutor.kt:15)\r\n",
      "\tat org.jetbrains.kotlinx.jupyter.ReplForJupyterImpl$evalEx$1.invoke(repl.kt:479)\r\n",
      "\tat org.jetbrains.kotlinx.jupyter.ReplForJupyterImpl$evalEx$1.invoke(repl.kt:470)\r\n",
      "\tat org.jetbrains.kotlinx.jupyter.ReplForJupyterImpl.withEvalContext(repl.kt:433)\r\n",
      "\tat org.jetbrains.kotlinx.jupyter.ReplForJupyterImpl.evalEx(repl.kt:470)\r\n",
      "\tat org.jetbrains.kotlinx.jupyter.messaging.ProtocolKt$shellMessagesHandler$2$res$1.invoke(protocol.kt:318)\r\n",
      "\tat org.jetbrains.kotlinx.jupyter.messaging.ProtocolKt$shellMessagesHandler$2$res$1.invoke(protocol.kt:312)\r\n",
      "\tat org.jetbrains.kotlinx.jupyter.JupyterExecutorImpl$runExecution$execThread$1.invoke(execution.kt:37)\r\n",
      "\tat org.jetbrains.kotlinx.jupyter.JupyterExecutorImpl$runExecution$execThread$1.invoke(execution.kt:32)\r\n",
      "\tat kotlin.concurrent.ThreadsKt$thread$thread$1.run(Thread.kt:30)\r\n"
     ]
    }
   ],
   "source": [
    "var nome: String? = null\n",
    "println(nome!!.length)"
   ],
   "metadata": {
    "collapsed": false
   },
   "execution_count": 15
  },
  {
   "cell_type": "markdown",
   "source": [
    "E se você for bom em desafios, provavelmente irá funcionar:"
   ],
   "metadata": {
    "collapsed": false
   }
  },
  {
   "cell_type": "code",
   "outputs": [
    {
     "name": "stdout",
     "output_type": "stream",
     "text": [
      "15\r\n"
     ]
    }
   ],
   "source": [
    "var teacher: String? = \"Teacher Gustavo\"\n",
    "println(teacher!!.length)"
   ],
   "metadata": {
    "collapsed": false,
    "ExecuteTime": {
     "end_time": "2024-03-11T02:49:39.300306600Z",
     "start_time": "2024-03-11T02:49:39.111920200Z"
    }
   },
   "execution_count": 19
  },
  {
   "cell_type": "markdown",
   "source": [
    "### 7. Safe casts\n",
    "\n",
    "#### O que são Safe Casts?\n",
    "\n",
    "Em Kotlin, o operador de safe cast `as?` permite tentar converter um tipo de objeto em outro de maneira segura. Diferentemente do operador de cast regular `as`, que lança uma exceção `ClassCastException` se a conversão não for possível, o operador de safe cast `as?` retorna `null` se a conversão falhar. Isso é particularmente útil em Kotlin devido à sua ênfase na segurança contra valores `null` e na prevenção de exceções em tempo de execução.\n",
    "\n",
    "#### Por que são importantes?\n",
    "\n",
    "Safe casts são importantes porque:\n",
    "\n",
    "- Previnem exceções inesperadas: Ao usar `as?`, você evita `ClassCastException` se a conversão de tipos não for possível, o que pode levar a uma execução de programa mais estável.\n",
    "- Facilitam a manipulação de tipos desconhecidos: quando você trabalha com tipos determinados em tempo de execução e você não tem certeza se a conversão de tipos é segura, o operador `as?` oferece uma maneira de tentar essa conversão sem arriscar uma falha do programa.\n",
    "- Promovem a segurança contra `null`: Ao retornar `null` em caso de falha na conversão, `as?` se alinha perfeitamente com a filosofia de Kotlin de tratar `null` de maneira explícita e segura."
   ],
   "metadata": {
    "collapsed": false
   }
  },
  {
   "cell_type": "code",
   "outputs": [
    {
     "name": "stdout",
     "output_type": "stream",
     "text": [
      "Este é um teste\r\n",
      "null\r\n"
     ]
    }
   ],
   "source": [
    "\n",
    "    val obj: Any = \"Este é um teste\"\n",
    "\n",
    "    // Tentativa de safe cast de obj para String\n",
    "    val str: String? = obj as? String\n",
    "    println(str) // Funciona porque obj é uma String\n",
    "\n",
    "    // Tentativa de safe cast de obj para StringBuilder\n",
    "    val sb: StringBuilder? = obj as? StringBuilder\n",
    "    println(sb) // Retorna null porque obj não pode ser convertido para StringBuilder"
   ],
   "metadata": {
    "collapsed": false
   },
   "execution_count": 17
  },
  {
   "cell_type": "markdown",
   "source": [
    "### 8. Coleções de um tipo anulável"
   ],
   "metadata": {
    "collapsed": false
   }
  },
  {
   "cell_type": "markdown",
   "source": [
    "Para filtrar elementos não nulos de uma coleção de elementos de tipos anuláveis, podemos utilizar a função `filterNotNull`, observe no código a seguir:"
   ],
   "metadata": {
    "collapsed": false
   }
  },
  {
   "cell_type": "code",
   "outputs": [
    {
     "name": "stdout",
     "output_type": "stream",
     "text": [
      "[Amanda, George, Luiz, Manoel, Olivia]\r\n"
     ]
    }
   ],
   "source": [
    "val listaAnulaveis: List<String?> = listOf(\"Amanda\",null,\"George\", \"Luiz\" ,null,\"Manoel\", \"Olivia\")\n",
    "val inList: List<String> = listaAnulaveis.filterNotNull()\n",
    "println(inList)"
   ],
   "metadata": {
    "collapsed": false
   },
   "execution_count": 18
  },
  {
   "cell_type": "markdown",
   "source": [
    "### 9. Prática\n",
    "\n",
    "Vamos revisar e fixar alguns conhecimentos de Null Safety? :)\n",
    "\n",
    "O código fornecido em src\\main\\kotlin\\praticas\\6-Null-Safety.kt é referente a um sistema de registro de atividades e será nossa base para esse exercício. Dessa forma, siga as instruções a seguir."
   ],
   "metadata": {
    "collapsed": false
   }
  },
  {
   "cell_type": "markdown",
   "source": [
    "- Na linha 51 do código é instaciada uma atividade com valor de descrição igual a `null` (sendo que descrição é tipo `String`). Execute o código e observe que não surgirá erro de compilação. Entretanto, descomente a linha 54 e observe o erro de compilação fornecido. Sua primeira missão aqui é corrigir o código para que esse erro não ocorra.\n",
    "- Perceba que cada atividade possui sua data de realização, que pode ser `null`. As datas são estruturadas com `dia` e `mes`, que também podem ser nulos. Escreva o código da função `listarTituloEMes` que deve imprimir na tela o título da ativadade e o mês em que deve ser realizada. Note que o Kotlin irá indicar erro ao tentar acessar as propriedades da `data`. Faça uso das Safe Calls.\n",
    "- Observe que, ao exibir as atividades cadastradas, algumas possuem o valor 'null' em alguns campos. Crie uma mensagem padrão para esses casos, como \"Campo não informado\". Dica: use o operador Elvis\n",
    "- - Implemente o método chamado `listarAtividadeSemData()` de forma que imprima na tela somente as atividades que tenham tanto o dia quanto o mês com valores nulos. Utilize um if statement para verificar os valores de dia e mês. Será necessário utilizar safe calls nesta verificação. Na sequência instancie uma atividade que receba o valor `null` no parâmetro data. São instâncias neste formato que devem ser listadas por esse método."
   ],
   "metadata": {
    "collapsed": false
   }
  },
  {
   "cell_type": "markdown",
   "source": [
    "### 10. Referências:\n",
    "\n",
    "1. https://kotlinlang.org/docs/null-safety.html#nullable-types-and-non-nullable-types\n",
    "\n",
    "2. https://books.goalkicker.com/KotlinBook/\n",
    "\n",
    "3. https://medium.com/android-news/how-kotlin-addresses-the-billion-dollar-mistake-27609c82703e\n",
    "\n",
    "4. https://www.infoq.com/presentations/Null-References-The-Billion-Dollar-Mistake-Tony-Hoare/\n"
   ],
   "metadata": {
    "collapsed": false
   }
  }
 ],
 "metadata": {
  "kernelspec": {
   "display_name": "Kotlin",
   "language": "kotlin",
   "name": "kotlin"
  },
  "language_info": {
   "name": "kotlin",
   "version": "1.9.0",
   "mimetype": "text/x-kotlin",
   "file_extension": ".kt",
   "pygments_lexer": "kotlin",
   "codemirror_mode": "text/x-kotlin",
   "nbconvert_exporter": ""
  },
  "ktnbPluginMetadata": {
   "projectLibraries": []
  }
 },
 "nbformat": 4,
 "nbformat_minor": 0
}
