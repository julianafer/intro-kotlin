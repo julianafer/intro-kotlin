{
 "cells": [
  {
   "cell_type": "markdown",
   "source": [
    "![Logo do Kotlin](https://upload.wikimedia.org/wikipedia/commons/thumb/d/d4/Kotlin_logo.svg/2560px-Kotlin_logo.svg.png)\n",
    "# Corrotinas\n",
    "Neste guia, vamos apresentar o que são Corrotinas na linguagem de programação Kotlin. Os tópicos a serem contemplados nele são os seguintes:\n",
    "- Conceito de corrotinas;\n",
    "- Como são utilizadas;\n",
    "- Suspensão de funções;\n",
    "- O que são Jobs;\n",
    "- O que são Scopes;\n",
    "\n",
    "## Considerações iniciais\n",
    "É importante destacar que este guia pode evoluir conforme as atualizações na linguagem de programação Kotlin. Além disso,\n",
    "está aberto a sugestões de terceiros, possibilitando alcançar um alto nível de qualidade e aprimorar a compreensão de Kotlin para todos os leitores.\n",
    "\n",
    "As referências utilizadas para construir este guia estão disponíveis ao final do documento.\n",
    "\n",
    "Este documento foi desenvolvido pelos seguintes alunos de TSI do IFPB, sob subervisão do professor Gustavo Wagner (2024.1):\n",
    "1. Alic Victor\n",
    "2. Caio Bernadelli\n",
    "3. Flávio Nascimento\n",
    "4. Juliana Ferreira\n",
    "5. Ricardo Luiz\n",
    "\n",
    "## 1. Conceito\n",
    "As corrotinas em Kotlin são uma forma de lidar com tarefas assíncronas de uma maneira muito mais fácil e organizada.\n",
    "Em vez de lidar com callbacks ou objetos complexos para gerenciar threads, você pode usar corrotinas para escrever código mais simples e \n",
    "fácil de entender.\n",
    "\n",
    "### 1.1. Diferença de Corrotinas e Threads\n",
    "As corrotinas são uma abstração mais leve e flexível para lidar com programação assíncrona e concorrência em comparação com as threads. \n",
    "Elas permitem escrever código concorrente de forma mais simples e eficiente, enquanto as threads são mais pesadas e geralmente \n",
    "são usadas quando é necessário um nível mais baixo de controle sobre a concorrência.\n",
    "\n",
    "#### Exemplo de corrotinas"
   ],
   "metadata": {
    "collapsed": false
   }
  },
  {
   "cell_type": "code",
   "outputs": [
    {
     "name": "stderr",
     "output_type": "stream",
     "text": [
      "Line_1.jupyter.kts (1:16 - 26) Unresolved reference: coroutines\n",
      "Line_1.jupyter.kts (5:5 - 16) Unresolved reference: GlobalScope\n",
      "Line_1.jupyter.kts (7:9 - 14) Unresolved reference: delay"
     ]
    }
   ],
   "source": [
    "import kotlinx.coroutines.*\n",
    "\n",
    "fun main() {\n",
    "    // Inicia uma corrotina\n",
    "    GlobalScope.launch {\n",
    "        // Corpo da corrotina\n",
    "        delay(1000) // Simula uma operação demorada por 1 segundo\n",
    "        println(\"Corrotina executada!\")\n",
    "    }\n",
    "\n",
    "    println(\"Corrotina iniciada. Aguardando...\")\n",
    "    // Aguarda um pouco para a corrotina ter tempo de executar\n",
    "    Thread.sleep(2000)\n",
    "    println(\"Fim do programa.\")\n",
    "}"
   ],
   "metadata": {
    "collapsed": false,
    "ExecuteTime": {
     "end_time": "2024-03-11T19:17:20.956373200Z",
     "start_time": "2024-03-11T19:17:20.749600700Z"
    }
   },
   "execution_count": 1
  },
  {
   "cell_type": "markdown",
   "source": [
    "Neste exemplo, a corrotina é iniciada com GlobalScope.launch. Ela executa uma operação de atraso (representando uma tarefa assíncrona) e \n",
    "imprime uma mensagem. Enquanto a corrotina está fazendo sua tarefa, o programa principal continua executando. Depois de um tempo, o programa termina."
   ],
   "metadata": {
    "collapsed": false
   }
  },
  {
   "cell_type": "markdown",
   "source": [
    "### 1.2. Principais problemas que as corrotinas resolvem\n",
    "\n",
    "#### 1.2.1. Facilidade de uso\n",
    "Trabalhar com threads diretamente pode ser complicado e propenso a erros. As corrotinas oferecem uma abstração mais simples \n",
    "para lidar com tarefas assíncronas, tornando o código mais legível e fácil de manter.\n",
    "\n",
    "#### 1.2.2. Evitar bloqueios\n",
    "Em muitos casos, quando você utiliza diretamente threads, pode ocorrer bloqueio, onde uma thread fica parada esperando outra finalizar sua tarefa. \n",
    "As corrotinas em Kotlin evitam esse problema ao permitir a suspensão e retomada de execuções de forma eficiente, sem bloquear a thread principal.\n",
    "\n",
    "#### 1.2.3. Gerenciamento automático \n",
    "Com as corrotinas, você não precisa se preocupar tanto com a criação e gerenciamento manual de threads. O Kotlin cuida disso para você, permitindo que você se concentre na lógica da sua aplicação.\n",
    "\n",
    "#### 1.2.4. Melhor desempenho\n",
    "As corrotinas podem ser mais eficientes em termos de desempenho do que a criação excessiva de threads. Elas podem ser executadas em um número menor de threads e são capazes de reutilizar as threads existentes de forma mais inteligente.\n",
    "\n",
    "#### 1.2.5. Tratamento simplificado de concorrência\n",
    "Com corrotinas, você pode escrever código concorrente sem se preocupar tanto com questões como sincronização de dados compartilhados entre threads. O modelo de programação assíncrono oferecido pelas corrotinas permite escrever código mais simples e menos sujeito a erros."
   ],
   "metadata": {
    "collapsed": false
   }
  },
  {
   "cell_type": "markdown",
   "source": [
    "### 1.3. Conceitos-chave\n",
    "\n",
    "#### 1.3.1. Coroutine Scope\n",
    "Um escopo de corrotina é um contexto no qual as corrotinas são lançadas e executadas. Ele gerencia o ciclo de vida das corrotinas e fornece um ambiente seguro para a execução assíncrona. O escopo de corrotina mais comum é o GlobalScope, que é global para toda a aplicação. No entanto, é recomendável criar escopos de corrotina específicos para diferentes partes da sua aplicação para melhor controle e gerenciamento.\n",
    "\n",
    "#### 1.3.2. Coroutine Launch\n",
    "O lançamento de corrotinas é a maneira de iniciar a execução de uma corrotina em um determinado escopo. Isso é feito usando a função launch, que recebe um bloco de código como parâmetro. Dentro deste bloco, você pode escrever a lógica da corrotina, incluindo qualquer operação assíncrona que precise ser realizada."
   ],
   "metadata": {
    "collapsed": false
   }
  },
  {
   "cell_type": "code",
   "outputs": [],
   "source": [
    "import kotlinx.coroutines.*\n",
    "\n",
    "fun main() {\n",
    "    // Inicia uma corrotina usando launch\n",
    "    GlobalScope.launch {\n",
    "        // Corpo da corrotina\n",
    "        delay(1000) // Simula uma operação demorada por 1 segundo\n",
    "        println(\"Corrotina executada!\")\n",
    "    }\n",
    "\n",
    "    println(\"Corrotina iniciada. Aguardando...\")\n",
    "    // Aguarda um pouco para a corrotina ter tempo de executar\n",
    "    Thread.sleep(2000)\n",
    "    println(\"Fim do programa.\")\n",
    "}"
   ],
   "metadata": {
    "collapsed": false
   }
  },
  {
   "cell_type": "markdown",
   "source": [
    "* Usamos GlobalScope.launch para iniciar uma corrotina global.\n",
    "* Dentro da corrotina, usamos delay para pausar a execução por 1 segundo (simulando uma operação demorada) e, em seguida, imprimimos uma mensagem.\n",
    "* Fora da corrotina, imprimimos uma mensagem indicando que a corrotina foi iniciada.\n",
    "* Aguardamos um pouco na thread principal para garantir que a corrotina tenha tempo de executar.\n",
    "* Por fim, imprimimos uma mensagem indicando o fim do programa.\n",
    "\n",
    "#### 1.3.3. Suspending and Resuming\n",
    "Uma característica fundamental das corrotinas é a capacidade de suspender e retomar a execução. Isso é feito usando funções suspenas (suspended functions), que são marcadas com a palavra-chave suspend. Quando uma função suspensa é chamada dentro de uma corrotina, ela pode pausar a execução da corrotina até que uma determinada condição seja satisfeita (por exemplo, o término de uma operação de I/O). Uma vez que a condição é satisfeita, a execução da corrotina é retomada a partir do ponto de suspensão.\n",
    "\n",
    "#### 1.3.4. Coroutine Context\n",
    "O contexto de corrotina é um conjunto de elementos que define o ambiente de execução de uma corrotina, como o escopo em que ela está sendo executada, o despachador (dispatcher) que controla em qual thread a corrotina será executada, e outros atributos como exceções e propriedades de depuração."
   ],
   "metadata": {
    "collapsed": false
   }
  },
  {
   "cell_type": "code",
   "outputs": [],
   "source": [
    "import kotlinx.coroutines.*\n",
    "\n",
    "fun main() {\n",
    "    // Define o contexto para a corrotina\n",
    "    val context = Dispatchers.Default\n",
    "    \n",
    "    // Inicia uma corrotina com o contexto especificado\n",
    "    GlobalScope.launch(context) {\n",
    "        // Corpo da corrotina\n",
    "        println(\"Corrotina executada no contexto: $coroutineContext\")\n",
    "    }\n",
    "\n",
    "    println(\"Corrotina iniciada. Aguardando...\")\n",
    "    // Aguarda um pouco para a corrotina ter tempo de executar\n",
    "    Thread.sleep(200)\n",
    "    println(\"Fim do programa.\")\n",
    "}"
   ],
   "metadata": {
    "collapsed": false,
    "ExecuteTime": {
     "end_time": "2024-03-04T07:46:54.430202800Z",
     "start_time": "2024-03-04T07:46:54.400201400Z"
    }
   },
   "execution_count": 261
  },
  {
   "cell_type": "markdown",
   "source": [
    "* Utilizamos Dispatchers.Default para definir o contexto da corrotina. Esse contexto indica que a corrotina será executada em um pool de threads específico para tarefas de média duração.\n",
    "* Em seguida, usamos GlobalScope.launch para iniciar uma corrotina com o contexto especificado.\n",
    "* Dentro da corrotina, imprimimos o contexto atual usando coroutineContext.\n",
    "* Finalmente, aguardamos um pouco na thread principal e imprimimos uma mensagem indicando o fim do programa.\n",
    "\n",
    "#### 1.3.5. Dispatchers\n",
    "Os despachadores controlam em qual thread uma corrotina será executada. Kotlin fornece vários despachadores embutidos, como Dispatchers.Main para a thread principal da interface do usuário em aplicativos Android, Dispatchers.IO para operações de entrada/saída (I/O) de longa duração, e Dispatchers.Default para tarefas computacionais intensivas. Você também pode criar seus próprios despachadores personalizados conforme necessário."
   ],
   "metadata": {
    "collapsed": false
   }
  },
  {
   "cell_type": "code",
   "outputs": [],
   "source": [
    "import kotlinx.coroutines.*\n",
    "\n",
    "fun main() {\n",
    "    // Inicia uma corrotina com um despachante específico\n",
    "    GlobalScope.launch(Dispatchers.IO) {\n",
    "        // Corpo da corrotina\n",
    "        println(\"Corrotina executada no despachante: ${coroutineContext.dispatcher}\")\n",
    "    }\n",
    "\n",
    "    println(\"Corrotina iniciada. Aguardando...\")\n",
    "    // Aguarda um pouco para a corrotina ter tempo de executar\n",
    "    Thread.sleep(200)\n",
    "    println(\"Fim do programa.\")\n",
    "}"
   ],
   "metadata": {
    "collapsed": false,
    "ExecuteTime": {
     "end_time": "2024-03-04T07:46:54.484203700Z",
     "start_time": "2024-03-04T07:46:54.450210Z"
    }
   },
   "execution_count": 262
  },
  {
   "cell_type": "markdown",
   "source": [
    "* Usamos Dispatchers.IO para especificar que a corrotina será executada em um despachante otimizado para operações de entrada/saída (I/O), como leitura e escrita de arquivos ou acesso a rede.\n",
    "* Em seguida, usamos GlobalScope.launch para iniciar uma corrotina com o despachante especificado.\n",
    "* Dentro da corrotina, imprimimos o despachante atual usando coroutineContext.dispatcher.\n",
    "* Por fim, aguardamos um pouco na thread principal e imprimimos uma mensagem indicando o fim do programa.\n",
    "\n",
    "#### 1.3.6. Gerenciamento de Concorrência e Comunicação entre Corrotinas\n",
    "As corrotinas facilitam a escrita de código concorrente, permitindo que você execute várias tarefas simultaneamente e coordene sua execução de forma eficiente. Kotlin fornece uma variedade de mecanismos para comunicação entre corrotinas, como canais (channels), semáforos (semaphores), e outras estruturas de dados reativas para troca de mensagens e sincronização de estado entre corrotinas."
   ],
   "metadata": {
    "collapsed": false
   }
  },
  {
   "cell_type": "code",
   "outputs": [],
   "source": [
    "import kotlinx.coroutines.*\n",
    "import kotlinx.coroutines.channels.*\n",
    "\n",
    "fun main() {\n",
    "    // Cria um canal para comunicação entre corrotinas\n",
    "    val channel = Channel<Int>()\n",
    "\n",
    "    // Inicia uma corrotina para produzir valores e enviar para o canal\n",
    "    GlobalScope.launch {\n",
    "        repeat(5) {\n",
    "            delay(100) // Simula uma produção de valor demorada\n",
    "            channel.send(it + 1) // Envia o próximo número para o canal\n",
    "        }\n",
    "        channel.close() // Fecha o canal após todos os valores terem sido enviados\n",
    "    }\n",
    "\n",
    "    // Inicia uma corrotina para consumir os valores do canal\n",
    "    GlobalScope.launch {\n",
    "        for (value in channel) {\n",
    "            println(\"Valor recebido: $value\") // Imprime o valor recebido\n",
    "        }\n",
    "        println(\"Todos os valores foram recebidos\")\n",
    "    }\n",
    "\n",
    "    // Aguarda um pouco para a corrotina ter tempo de executar\n",
    "    Thread.sleep(1000)\n",
    "}"
   ],
   "metadata": {
    "collapsed": false,
    "ExecuteTime": {
     "end_time": "2024-03-04T07:46:54.600268700Z",
     "start_time": "2024-03-04T07:46:54.569263900Z"
    }
   },
   "execution_count": 263
  },
  {
   "cell_type": "markdown",
   "source": [
    "* Criamos um canal (Channel) para facilitar a comunicação entre duas corrotinas.\n",
    "* Uma corrotina é iniciada para produzir valores e enviar para o canal usando channel.send(value). Neste exemplo, produzimos os números de 1 a 5 e os enviamos para o canal.\n",
    "* Outra corrotina é iniciada para consumir os valores do canal usando um loop for sobre o canal. Ele imprime os valores recebidos.\n",
    "* Após todos os valores terem sido recebidos, a corrotina consumidora imprime uma mensagem indicando que todos os valores foram recebidos.\n",
    "* Por fim, aguardamos um pouco na thread principal para garantir que as corrotinas tenham tempo de executar antes do término do programa."
   ],
   "metadata": {
    "collapsed": false
   }
  },
  {
   "cell_type": "markdown",
   "source": [
    "## 2. Uso\n",
    "\n",
    "### Exemplo 1: Coroutine Simples\n",
    "\n",
    "Suponha que você tenha uma função que executa uma operação de processamento demorada, como recuperar dados de um servidor. Enquanto essa função está sendo executada, uma coroutine pode ser lançada para lidar com esse trabalho assíncrono. \n",
    "\n",
    "Aqui está um exemplo que ilustra esse processo. Para simular uma operação demorada, utilizamos a função `delay()` fornecida pela biblioteca `kotlinx.coroutines`."
   ],
   "metadata": {
    "collapsed": false
   }
  },
  {
   "cell_type": "code",
   "outputs": [],
   "source": [
    "import kotlinx.coroutines.*\n",
    "\n",
    "fun main() {\n",
    "    // Lança uma nova coroutine\n",
    "    GlobalScope.launch {\n",
    "        delay(1000) // Simulação de busca no banco de dados\n",
    "        println(\"Seus dados já foram recuperados!\")\n",
    "\n",
    "    }\n",
    "\n",
    "    println(\"Bem-vindo(a) ao banco!\")\n",
    "\n",
    "    // Espera um pouco antes de encerrar o programa\n",
    "    Thread.sleep(3000)\n",
    "}"
   ],
   "metadata": {
    "collapsed": false
   }
  },
  {
   "cell_type": "markdown",
   "source": [
    "## 3. Suspensão de funções"
   ],
   "metadata": {
    "collapsed": false
   }
  },
  {
   "cell_type": "markdown",
   "source": [
    "## 4. Jobs"
   ],
   "metadata": {
    "collapsed": false
   }
  },
  {
   "cell_type": "markdown",
   "source": [
    "## 5. Scopes"
   ],
   "metadata": {
    "collapsed": false
   }
  },
  {
   "cell_type": "markdown",
   "source": [
    "## 6. Prática sobre sintaxe básica\n",
    "Iremos revisar e fixar melhor alguns assuntos de sintaxe básica de Kotlin durante essa prática.\n",
    "\n",
    "O código se encontra em src\\main\\kotlin\\praticas\\2-Sintaxe-Basica.kt\n",
    "\n",
    "Nela, temos o código de um sistema simples de uma livraria, onde podemos cadastrar, excluir, editar e buscar livros. Contudo, partes do código estão incorretas ou faltando. É aí que você entra ;). Use seus conhecimentos da sintaxe básica do Kotlin para consertar o sistema."
   ],
   "metadata": {
    "collapsed": false
   }
  },
  {
   "cell_type": "markdown",
   "source": [
    "### 6.1. Etapas"
   ],
   "metadata": {
    "collapsed": false
   }
  },
  {
   "cell_type": "markdown",
   "source": [
    "1 - Implementar a função listar: o sistema vem com 4 livros cadastrados, porém, a função para exibi-los está vazia! Implemente a função, cuja assinatura já está presente na linha 53, de modo que ela imprima no console cada livro presente no repositório. Utilize o laço de repetição `for` para percorrer cada índice do repositório de livros e imprimí-los no console. Lembre-se que a sintaxe para acessar um valor de uma lista em Kotlin é `nomeDaLista[índice]`.\n",
    "\n",
    "Após implementar o método, rode o programa e chame a opção 5 para testar seu código. Caso ele esteja funcionando, 4 livros devem aparecer no console.\n",
    "\n",
    "Um desses livros, o \"Livro dos Livros\", está imprimindo seu preço incorretamente, 1000000.0 ao invés de 999999.99. Isso ocorre em decorrência do atributo preço ser do tipo float, que não tem precisão suficiente para guardar números com mais de 7 dígitos. Vamos consertar isso no próximo passo.\n",
    "\n",
    "2 - De `Float` para `Double`: para resolver nosso problema, vamos alterar o atributo preço da classe Livro de `Float` para `Double`. Também precisamos alterar a função `inputPreco()` para que ela retorne `Double` ao invés de `Float`. Por último, na função `main()`, remova os \"f\" após os números onde os livros estão sendo cadastrados.\n",
    "\n",
    "Feito isso, vamos agora cadastrar um livro. Execute o programa e escolha a primeira opção. Quando for pedido o preço, informe um valor negativo. Agora escolha a opção 5 para listar os livros. Perceba que o sistema permitiu o cadastro de um livro com preço negativo, o que nunca deveria acontecer. Vamos consertar isso!\n",
    "\n",
    "3 - Validando o preço: adicione à função `inputPreco()` uma validação para que o preço nunca possa ser negativo. Lembre-se de alterar a variável `preco` de `val` para `var`, para que o valor dela possa ser alterado novamente, caso o primeiro número informado seja inválido.\n",
    "\n",
    "Feito isso, vamos agora remover um livro. Escolha a segunda opção e digite \"Livro dos Livros\". Ao listar os livros novamente, podemos confirmar que ele foi deletado. Agora vamos tentar excluir um livro novamente, mas, dessa vez, quando a aplicação pedir para digitar o título, apenas pressione a tecla \"enter\". Perceba que a mensagem de exclusão foi a mesma, apesar de livro nenhum ter sido excluído.\n",
    "\n",
    "4 - Validando remoção: o método `remove`, utilizado em `excluirLivro()`, retorna `true`, caso a remoção tenha ocorrido, ou `false`, caso não. Sabendo disso, use a instrução condicional apropriada para imprimir uma mensagem personalizada caso nenhuma remoção tenha ocorrido.\n",
    "\n",
    "5 - Implementando `editarLivro()`: agora, utilizando tudo que você aprendeu, implemente a função `editarLivro()`, onde o usuário deve escolher se gostaria de alterar o `título` ou `preço` do livro, informar o novo valor, e o sistema salvará essa alteração no repositório. Faça as adaptações que julgar necessárias, inclusive na própria classe `Livro`. Por fim, descomente o item 4 do when na função main() adicionando a chamada a função `editarLivro()` ao mesmo.\n",
    "\n",
    "Parabéns, você concluiu a prática :)"
   ],
   "metadata": {
    "collapsed": false
   }
  },
  {
   "cell_type": "markdown",
   "source": [
    "## Referências\n",
    "[https://kotlinlang.org/docs/home.html](Documentação oficial da linguagem Kotlin)"
   ],
   "metadata": {
    "collapsed": false
   }
  }
 ],
 "metadata": {
  "kernelspec": {
   "display_name": "Kotlin",
   "language": "kotlin",
   "name": "kotlin"
  },
  "language_info": {
   "name": "kotlin",
   "version": "1.9.0",
   "mimetype": "text/x-kotlin",
   "file_extension": ".kt",
   "pygments_lexer": "kotlin",
   "codemirror_mode": "text/x-kotlin",
   "nbconvert_exporter": ""
  }
 },
 "nbformat": 4,
 "nbformat_minor": 0
}
